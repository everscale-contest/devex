{
 "cells": [
  {
   "cell_type": "markdown",
   "metadata": {},
   "source": [
    "# NFT image and traits generator\n",
    "\n",
    "This scripts will collect layers from `image-sources` folder and build images for your NFT. It also will put this traits into JSON files for easy future deploy.\n",
    "\n",
    "Make sure you have edited this script as you need."
   ]
  },
  {
   "cell_type": "code",
   "execution_count": 1,
   "metadata": {},
   "outputs": [],
   "source": [
    "from PIL import Image \n",
    "from IPython.display import display \n",
    "import random\n",
    "import json"
   ]
  },
  {
   "cell_type": "code",
   "execution_count": 2,
   "metadata": {},
   "outputs": [],
   "source": [
    "# Each image is made up a series of traits\n",
    "# The weightings for each trait drive the rarity and add up to 100%\n",
    "\n",
    "background = [\"Green\", \"Yellow\", \"Blue\", \"White\"] \n",
    "background_weights = [30, 10, 20, 40]\n",
    "\n",
    "body = [\"Duck\"] \n",
    "body_weights = [100]\n",
    "\n",
    "face = [\"face1\", \"face2\", \"face3\", \"face4\"] \n",
    "face_weights = [25, 25, 25, 25]\n",
    "\n",
    "accessory = [\"accessory1\", \"accessory2\", \"accessory3\", \"accessory4\"] \n",
    "accessory_weights = [25, 25, 25, 25]\n",
    "\n",
    "hair = [\"hair1\", \"hair2\", \"hair3\", \"hair4\"] \n",
    "hair_weights = [30, 20, 10, 40]\n",
    "\n",
    "# Dictionary variable for each trait. \n",
    "# Eech trait corresponds to its file name\n",
    "\n",
    "background_files = {\n",
    "    \"Green\": \"background1\",\n",
    "    \"Yellow\": \"background2\",\n",
    "    \"Blue\": \"background3\",\n",
    "    \"White\": \"background4\"\n",
    "}\n",
    "\n",
    "body_files = {\n",
    "    \"Duck\": \"body1\",\n",
    "}\n",
    "\n",
    "face_files = {\n",
    "    \"face1\": \"face1\",\n",
    "    \"face2\": \"face2\",\n",
    "    \"face3\": \"face3\",\n",
    "    \"face4\": \"face4\",\n",
    "}\n",
    "\n",
    "accessory_files = {\n",
    "    \"accessory1\": \"accessory1\",\n",
    "    \"accessory2\": \"accessory2\",\n",
    "    \"accessory3\": \"accessory3\",\n",
    "    \"accessory4\": \"accessory4\",\n",
    "}\n",
    "\n",
    "hair_files = {\n",
    "    \"hair1\": \"hair1\",\n",
    "    \"hair2\": \"hair2\",\n",
    "    \"hair3\": \"hair3\",\n",
    "    \"hair4\": \"hair4\",\n",
    "}"
   ]
  },
  {
   "cell_type": "code",
   "execution_count": 3,
   "metadata": {},
   "outputs": [],
   "source": [
    "## Generate Traits\n",
    "\n",
    "TOTAL_IMAGES = 32 # Number of random unique images we want to generate\n",
    "\n",
    "all_images = [] \n",
    "\n",
    "# A recursive function to generate unique image combinations\n",
    "def create_new_image():\n",
    "    \n",
    "    new_image = {} #\n",
    "\n",
    "    # For each trait category, select a random trait based on the weightings \n",
    "    new_image [\"Background\"] = random.choices(background, background_weights)[0]\n",
    "    new_image [\"Body\"] = random.choices(body, body_weights)[0]\n",
    "    new_image [\"Face\"] = random.choices(face, face_weights)[0]\n",
    "    new_image [\"Accessory\"] = random.choices(accessory, accessory_weights)[0]\n",
    "    new_image [\"Hair\"] = random.choices(hair, hair_weights)[0]\n",
    "    \n",
    "    if new_image in all_images:\n",
    "        return create_new_image()\n",
    "    else:\n",
    "        return new_image\n",
    "    \n",
    "    \n",
    "# Generate the unique combinations based on trait weightings\n",
    "for i in range(TOTAL_IMAGES): \n",
    "    \n",
    "    new_trait_image = create_new_image()\n",
    "    \n",
    "    all_images.append(new_trait_image)\n",
    "    \n"
   ]
  },
  {
   "cell_type": "code",
   "execution_count": 4,
   "metadata": {},
   "outputs": [
    {
     "name": "stdout",
     "output_type": "stream",
     "text": [
      "Are all images unique? True\n"
     ]
    }
   ],
   "source": [
    "# Returns true if all images are unique\n",
    "def all_images_unique(all_images):\n",
    "    seen = list()\n",
    "    return not any(i in seen or seen.append(i) for i in all_images)\n",
    "\n",
    "print(\"Are all images unique?\", all_images_unique(all_images))"
   ]
  },
  {
   "cell_type": "code",
   "execution_count": 5,
   "metadata": {},
   "outputs": [],
   "source": [
    "# Add token Id to each image\n",
    "i = 0\n",
    "for item in all_images:\n",
    "    item[\"tokenId\"] = i\n",
    "    i = i + 1"
   ]
  },
  {
   "cell_type": "code",
   "execution_count": 6,
   "metadata": {
    "tags": []
   },
   "outputs": [
    {
     "name": "stdout",
     "output_type": "stream",
     "text": [
      "[{'Background': 'Green', 'Body': 'Duck', 'Face': 'face2', 'Accessory': 'accessory2', 'Hair': 'hair2', 'tokenId': 0}, {'Background': 'White', 'Body': 'Duck', 'Face': 'face2', 'Accessory': 'accessory2', 'Hair': 'hair4', 'tokenId': 1}, {'Background': 'Blue', 'Body': 'Duck', 'Face': 'face1', 'Accessory': 'accessory2', 'Hair': 'hair1', 'tokenId': 2}, {'Background': 'Green', 'Body': 'Duck', 'Face': 'face1', 'Accessory': 'accessory3', 'Hair': 'hair4', 'tokenId': 3}, {'Background': 'Blue', 'Body': 'Duck', 'Face': 'face1', 'Accessory': 'accessory4', 'Hair': 'hair4', 'tokenId': 4}, {'Background': 'Blue', 'Body': 'Duck', 'Face': 'face2', 'Accessory': 'accessory4', 'Hair': 'hair1', 'tokenId': 5}, {'Background': 'White', 'Body': 'Duck', 'Face': 'face1', 'Accessory': 'accessory3', 'Hair': 'hair1', 'tokenId': 6}, {'Background': 'White', 'Body': 'Duck', 'Face': 'face4', 'Accessory': 'accessory4', 'Hair': 'hair4', 'tokenId': 7}, {'Background': 'Yellow', 'Body': 'Duck', 'Face': 'face2', 'Accessory': 'accessory4', 'Hair': 'hair2', 'tokenId': 8}, {'Background': 'White', 'Body': 'Duck', 'Face': 'face3', 'Accessory': 'accessory4', 'Hair': 'hair1', 'tokenId': 9}, {'Background': 'Blue', 'Body': 'Duck', 'Face': 'face4', 'Accessory': 'accessory2', 'Hair': 'hair1', 'tokenId': 10}, {'Background': 'Blue', 'Body': 'Duck', 'Face': 'face1', 'Accessory': 'accessory3', 'Hair': 'hair4', 'tokenId': 11}, {'Background': 'Green', 'Body': 'Duck', 'Face': 'face2', 'Accessory': 'accessory4', 'Hair': 'hair3', 'tokenId': 12}, {'Background': 'Blue', 'Body': 'Duck', 'Face': 'face1', 'Accessory': 'accessory4', 'Hair': 'hair2', 'tokenId': 13}, {'Background': 'White', 'Body': 'Duck', 'Face': 'face1', 'Accessory': 'accessory1', 'Hair': 'hair4', 'tokenId': 14}, {'Background': 'Blue', 'Body': 'Duck', 'Face': 'face3', 'Accessory': 'accessory4', 'Hair': 'hair4', 'tokenId': 15}, {'Background': 'White', 'Body': 'Duck', 'Face': 'face2', 'Accessory': 'accessory3', 'Hair': 'hair2', 'tokenId': 16}, {'Background': 'Green', 'Body': 'Duck', 'Face': 'face1', 'Accessory': 'accessory2', 'Hair': 'hair4', 'tokenId': 17}, {'Background': 'Blue', 'Body': 'Duck', 'Face': 'face3', 'Accessory': 'accessory4', 'Hair': 'hair3', 'tokenId': 18}, {'Background': 'Yellow', 'Body': 'Duck', 'Face': 'face1', 'Accessory': 'accessory1', 'Hair': 'hair4', 'tokenId': 19}, {'Background': 'Blue', 'Body': 'Duck', 'Face': 'face3', 'Accessory': 'accessory2', 'Hair': 'hair4', 'tokenId': 20}, {'Background': 'Blue', 'Body': 'Duck', 'Face': 'face1', 'Accessory': 'accessory3', 'Hair': 'hair1', 'tokenId': 21}, {'Background': 'Yellow', 'Body': 'Duck', 'Face': 'face2', 'Accessory': 'accessory3', 'Hair': 'hair1', 'tokenId': 22}, {'Background': 'White', 'Body': 'Duck', 'Face': 'face1', 'Accessory': 'accessory4', 'Hair': 'hair1', 'tokenId': 23}, {'Background': 'Blue', 'Body': 'Duck', 'Face': 'face2', 'Accessory': 'accessory2', 'Hair': 'hair2', 'tokenId': 24}, {'Background': 'Green', 'Body': 'Duck', 'Face': 'face1', 'Accessory': 'accessory1', 'Hair': 'hair2', 'tokenId': 25}, {'Background': 'White', 'Body': 'Duck', 'Face': 'face1', 'Accessory': 'accessory3', 'Hair': 'hair4', 'tokenId': 26}, {'Background': 'Blue', 'Body': 'Duck', 'Face': 'face1', 'Accessory': 'accessory3', 'Hair': 'hair2', 'tokenId': 27}, {'Background': 'Green', 'Body': 'Duck', 'Face': 'face1', 'Accessory': 'accessory2', 'Hair': 'hair1', 'tokenId': 28}, {'Background': 'Green', 'Body': 'Duck', 'Face': 'face4', 'Accessory': 'accessory2', 'Hair': 'hair4', 'tokenId': 29}, {'Background': 'Green', 'Body': 'Duck', 'Face': 'face4', 'Accessory': 'accessory3', 'Hair': 'hair3', 'tokenId': 30}, {'Background': 'White', 'Body': 'Duck', 'Face': 'face1', 'Accessory': 'accessory2', 'Hair': 'hair4', 'tokenId': 31}]\n"
     ]
    }
   ],
   "source": [
    "print(all_images)"
   ]
  },
  {
   "cell_type": "code",
   "execution_count": 7,
   "metadata": {},
   "outputs": [
    {
     "name": "stdout",
     "output_type": "stream",
     "text": [
      "{'Green': 8, 'Yellow': 3, 'Blue': 12, 'White': 9}\n",
      "{'Duck': 32}\n",
      "{'face1': 16, 'face2': 8, 'face3': 4, 'face4': 4}\n",
      "{'accessory1': 3, 'accessory2': 10, 'accessory3': 9, 'accessory4': 10}\n",
      "{'hair1': 9, 'hair2': 7, 'hair3': 3, 'hair4': 13}\n"
     ]
    }
   ],
   "source": [
    "# Get Trait Counts\n",
    "\n",
    "background_count = {}\n",
    "for item in background:\n",
    "    background_count[item] = 0\n",
    "    \n",
    "body_count = {}\n",
    "for item in body:\n",
    "    body_count[item] = 0\n",
    "\n",
    "face_count = {}\n",
    "for item in face:\n",
    "    face_count[item] = 0\n",
    "\n",
    "accessory_count = {}\n",
    "for item in accessory:\n",
    "    accessory_count[item] = 0\n",
    "\n",
    "hair_count = {}\n",
    "for item in hair:\n",
    "    hair_count[item] = 0\n",
    "\n",
    "for image in all_images:\n",
    "    background_count[image[\"Background\"]] += 1\n",
    "    body_count[image[\"Body\"]] += 1\n",
    "    face_count[image[\"Face\"]] += 1\n",
    "    accessory_count[image[\"Accessory\"]] += 1\n",
    "    hair_count[image[\"Hair\"]] += 1\n",
    "    \n",
    "print(background_count)\n",
    "print(body_count)\n",
    "print(face_count)\n",
    "print(accessory_count)\n",
    "print(hair_count)"
   ]
  },
  {
   "cell_type": "code",
   "execution_count": 8,
   "metadata": {},
   "outputs": [],
   "source": [
    "#### Generate Metadata for all Traits \n",
    "METADATA_FILE_NAME = './metadata/all-traits.json'; \n",
    "with open(METADATA_FILE_NAME, 'w') as outfile:\n",
    "    json.dump(all_images, outfile, indent=4)"
   ]
  },
  {
   "cell_type": "code",
   "execution_count": 9,
   "metadata": {},
   "outputs": [],
   "source": [
    "  \n",
    "    \n",
    "#### Generate Images    \n",
    "for item in all_images:\n",
    "\n",
    "    im1 = Image.open(f'./image-source/background/{background_files[item[\"Background\"]]}.png').convert('RGBA')\n",
    "    im2 = Image.open(f'./image-source/body/{body_files[item[\"Body\"]]}.png').convert('RGBA')\n",
    "    im3 = Image.open(f'./image-source/face/{face_files[item[\"Face\"]]}.png').convert('RGBA')\n",
    "    im4 = Image.open(f'./image-source/accessory/{accessory_files[item[\"Accessory\"]]}.png').convert('RGBA')\n",
    "    im5 = Image.open(f'./image-source/hair/{hair_files[item[\"Hair\"]]}.png').convert('RGBA')\n",
    "\n",
    "    #Create each composite\n",
    "    com1 = Image.alpha_composite(im1, im2)\n",
    "    com2 = Image.alpha_composite(com1, im3)\n",
    "    com3 = Image.alpha_composite(com2, im4)\n",
    "    com4 = Image.alpha_composite(com3, im5)\n",
    "\n",
    "    #Resize to 128x128 pixels\n",
    "    im_resized = com4.resize((128,128), Image.NEAREST)\n",
    "\n",
    "    #Convert to RGB\n",
    "    rgb_im = im_resized.convert('RGB')\n",
    "    file_name = str(item[\"tokenId\"]) + \".png\"\n",
    "    rgb_im.save(\"./images-output/\" + file_name)\n",
    "    \n",
    "    \n",
    "    "
   ]
  },
  {
   "cell_type": "code",
   "execution_count": 10,
   "metadata": {},
   "outputs": [],
   "source": [
    "#### Generate Metadata for each Image    \n",
    "\n",
    "f = open('./metadata/all-traits.json',) \n",
    "data = json.load(f)\n",
    "\n",
    "# Set your own\n",
    "IMAGES_BASE_URI = \"http:/localhost:8080/token/\"\n",
    "PROJECT_NAME = \"EverDucks\"\n",
    "\n",
    "def getAttribute(key, value):\n",
    "    return {\n",
    "        \"trait_type\": key,\n",
    "        \"value\": value\n",
    "    }\n",
    "for i in data:\n",
    "    token_id = i['tokenId']\n",
    "    token = {\n",
    "        \"image\": IMAGES_BASE_URI + str(token_id) + '.png',\n",
    "        \"tokenId\": token_id,\n",
    "        \"name\": PROJECT_NAME + ' ' + str(token_id),\n",
    "        \"attributes\": []\n",
    "    }\n",
    "    token[\"attributes\"].append(getAttribute(\"Background\", i[\"Background\"]))\n",
    "    token[\"attributes\"].append(getAttribute(\"Body\", i[\"Body\"]))\n",
    "    token[\"attributes\"].append(getAttribute(\"Face\", i[\"Face\"]))\n",
    "    token[\"attributes\"].append(getAttribute(\"Accessory\", i[\"Accessory\"]))\n",
    "    token[\"attributes\"].append(getAttribute(\"Hair\", i[\"Hair\"]))\n",
    "\n",
    "    with open('./metadata/' + str(token_id), 'w') as outfile:\n",
    "        json.dump(token, outfile, indent=4)\n",
    "f.close()"
   ]
  },
  {
   "cell_type": "code",
   "execution_count": null,
   "metadata": {},
   "outputs": [],
   "source": []
  }
 ],
 "metadata": {
  "interpreter": {
   "hash": "3d65f8beab89bca824669a8319117cabe601d9aca9a71aad8efeb42336828120"
  },
  "kernelspec": {
   "display_name": "Python 3.9.6 64-bit",
   "name": "python3"
  },
  "language_info": {
   "codemirror_mode": {
    "name": "ipython",
    "version": 3
   },
   "file_extension": ".py",
   "mimetype": "text/x-python",
   "name": "python",
   "nbconvert_exporter": "python",
   "pygments_lexer": "ipython3",
   "version": "3.10.0"
  }
 },
 "nbformat": 4,
 "nbformat_minor": 4
}
